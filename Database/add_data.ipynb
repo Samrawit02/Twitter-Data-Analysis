{
 "cells": [
  {
   "cell_type": "code",
   "execution_count": null,
   "metadata": {},
   "outputs": [],
   "source": [
    "pip uninstall mysql-connector"
   ]
  },
  {
   "cell_type": "code",
   "execution_count": null,
   "metadata": {},
   "outputs": [],
   "source": [
    "pip list"
   ]
  },
  {
   "cell_type": "code",
   "execution_count": null,
   "metadata": {},
   "outputs": [],
   "source": [
    "pip install mysql-connector-python\n"
   ]
  },
  {
   "cell_type": "code",
   "execution_count": null,
   "metadata": {},
   "outputs": [],
   "source": [
    "import os\n",
    "import pandas as pd\n",
    "import mysql.connector as mysql\n",
    "from mysql.connector import Error"
   ]
  },
  {
   "cell_type": "code",
   "execution_count": null,
   "metadata": {},
   "outputs": [],
   "source": [
    "def DBConnect(dbName=None):\n",
    "    \"\"\"\n",
    "    Parameters\n",
    "    ----------\n",
    "    dbName :\n",
    "        Default value = None\n",
    "    Returns\n",
    "    -------\n",
    "    \"\"\"\n",
    "    conn = mysql.connect(host='localhost', user='root', password=\"haira@0922787213\",\n",
    "                         database=dbName, buffered=True)\n",
    "    cur = conn.cursor()\n",
    "    return conn, cur"
   ]
  },
  {
   "cell_type": "code",
   "execution_count": null,
   "metadata": {},
   "outputs": [],
   "source": [
    "def emojiDB(dbName: str) -> None:\n",
    "    conn, cur = DBConnect(dbName)\n",
    "    dbQuery = f\"ALTER DATABASE {dbName} CHARACTER SET = utf8mb4 COLLATE = utf8mb4_unicode_ci;\"\n",
    "    cur.execute(dbQuery)\n",
    "    conn.commit()"
   ]
  },
  {
   "cell_type": "code",
   "execution_count": null,
   "metadata": {},
   "outputs": [],
   "source": [
    "def createDB(dbName: str) -> None:\n",
    "    \"\"\"\n",
    "    Parameters\n",
    "    ----------\n",
    "    dbName :\n",
    "        str\n",
    "    Returns\n",
    "    -------\n",
    "    \"\"\"\n",
    "    conn, cur = DBConnect()\n",
    "    cur.execute(f\"CREATE DATABASE IF NOT EXISTS {dbName};\")\n",
    "    conn.commit()\n",
    "    cur.close()\n"
   ]
  },
  {
   "cell_type": "code",
   "execution_count": null,
   "metadata": {},
   "outputs": [],
   "source": [
    "def createTables(dbName: str) -> None:\n",
    "    \"\"\"\n",
    "    Parameters\n",
    "    ----------\n",
    "    dbName :\n",
    "        str\n",
    "    Returns\n",
    "    -------\n",
    "    \"\"\"\n",
    "    conn, cur = DBConnect(dbName)\n",
    "    sqlFile = 'tweet_schema.sql'\n",
    "    fd = open(sqlFile, 'r')\n",
    "    readSqlFile = fd.read()\n",
    "    fd.close()\n",
    "\n",
    "    sqlCommands = readSqlFile.split(';')\n",
    "\n",
    "    for command in sqlCommands:\n",
    "        try:\n",
    "            res = cur.execute(command)\n",
    "        except Exception as ex:\n",
    "            print(\"Command skipped: \", command)\n",
    "            print(ex)\n",
    "    conn.commit()\n",
    "    cur.close()\n",
    "\n",
    "    return\n"
   ]
  },
  {
   "cell_type": "code",
   "execution_count": null,
   "metadata": {},
   "outputs": [],
   "source": [
    "def preprocess_df(df: pd.DataFrame) -> pd.DataFrame:\n",
    "    \"\"\"\n",
    "    Parameters\n",
    "    ----------\n",
    "    df :\n",
    "        pd.DataFrame\n",
    "    Returns\n",
    "    -------\n",
    "    \"\"\"\n",
    "    cols_2_drop = ['original_text']\n",
    "    try:\n",
    "        df = df.drop(columns=cols_2_drop, axis=1)\n",
    "        values={\"hashtags\": \"\", \"user_mentions\": \"\"}\n",
    "        df = df.fillna(value=values)\n",
    "        df = df.fillna(0)\n",
    "    except KeyError as e:\n",
    "        print(\"Error:\", e)\n",
    "\n",
    "    return df\n"
   ]
  },
  {
   "cell_type": "code",
   "execution_count": null,
   "metadata": {},
   "outputs": [],
   "source": [
    "def insert_to_tweet_table(dbName: str, df: pd.DataFrame, table_name: str) -> None:\n",
    "    \"\"\"\n",
    "    Parameters\n",
    "    ----------\n",
    "    dbName :\n",
    "        str\n",
    "    df :\n",
    "        pd.DataFrame\n",
    "    table_name :\n",
    "        str\n",
    "    Returns\n",
    "    -------\n",
    "    \"\"\"\n",
    "    conn, cur = DBConnect(dbName)\n",
    "\n",
    "    df = preprocess_df(df)\n",
    "\n",
    "    for _, row in df.iterrows():\n",
    "        sqlQuery = f\"\"\"INSERT INTO {table_name} (created_at, source, clean_text, sentiment, polarity,  language,\n",
    "                    favorite_count, retweet_count, original_author, followers_count, friends_count, possibly_sensitive, hashtags, user_mentions, place)\n",
    "             VALUES(%s, %s, %s, %s, %s, %s, %s, %s, %s, %s, %s, %s, %s, %s, %s );\"\"\"\n",
    "        data = (row[0], row[1], row[2], row[3], (row[4]), (row[5]), row[6], row[7], row[8], row[9], row[10],\n",
    "                row[11], row[12], row[13], row[14])\n",
    "\n",
    "        try:\n",
    "            # Execute the SQL command\n",
    "            cur.execute(sqlQuery, data)\n",
    "            # Commit your changes in the database\n",
    "            conn.commit()\n",
    "            print(\"Data Inserted Successfully\")\n",
    "        except Exception as e:\n",
    "            conn.rollback()\n",
    "            print(\"Error: \", e)\n",
    "    return\n"
   ]
  },
  {
   "cell_type": "code",
   "execution_count": null,
   "metadata": {},
   "outputs": [],
   "source": [
    "def db_execute_fetch(*args, many=False, tablename='', rdf=True, **kwargs) -> pd.DataFrame:\n",
    "    \"\"\"\n",
    "    Parameters\n",
    "    ----------\n",
    "    *args :\n",
    "    many :\n",
    "         (Default value = False)\n",
    "    tablename :\n",
    "         (Default value = '')\n",
    "    rdf :\n",
    "         (Default value = True)\n",
    "    **kwargs :\n",
    "    Returns\n",
    "    -------\n",
    "    \"\"\"\n",
    "    connection, cursor1 = DBConnect(**kwargs)\n",
    "    if many:\n",
    "        cursor1.executemany(*args)\n",
    "    else:\n",
    "        cursor1.execute(*args)\n",
    "\n",
    "    # get column names\n",
    "    field_names = [i[0] for i in cursor1.description]\n",
    "\n",
    "    # get column values\n",
    "    res = cursor1.fetchall()\n",
    "\n",
    "    # get row count and show info\n",
    "    nrow = cursor1.rowcount\n",
    "    if tablename:\n",
    "        print(f\"{nrow} records fetched from {tablename} table\")\n",
    "\n",
    "    cursor1.close()\n",
    "    connection.close()\n",
    "\n",
    "    # return result\n",
    "    if rdf:\n",
    "        return pd.DataFrame(res, columns=field_names)\n",
    "    else:\n",
    "        return res\n",
    "\n"
   ]
  },
  {
   "cell_type": "code",
   "execution_count": null,
   "metadata": {},
   "outputs": [],
   "source": [
    "if __name__ == \"__main__\":\n",
    "    createDB(dbName='tweets')\n",
    "    emojiDB(dbName='tweets')\n",
    "    createTables(dbName='tweets')\n",
    "\n",
    "    df = pd.read_csv('../clean_tweet_data.csv')\n",
    "    insert_to_tweet_table(dbName='tweets', df=df, table_name='TweetInformation')\n"
   ]
  },
  {
   "cell_type": "code",
   "execution_count": null,
   "metadata": {},
   "outputs": [],
   "source": []
  }
 ],
 "metadata": {
  "kernelspec": {
   "display_name": "Python 3",
   "language": "python",
   "name": "python3"
  },
  "language_info": {
   "codemirror_mode": {
    "name": "ipython",
    "version": 3
   },
   "file_extension": ".py",
   "mimetype": "text/x-python",
   "name": "python",
   "nbconvert_exporter": "python",
   "pygments_lexer": "ipython3",
   "version": "3.7.4"
  }
 },
 "nbformat": 4,
 "nbformat_minor": 2
}
