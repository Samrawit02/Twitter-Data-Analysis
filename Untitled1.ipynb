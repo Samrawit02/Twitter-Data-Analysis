{
 "cells": [
  {
   "cell_type": "code",
   "execution_count": 17,
   "metadata": {},
   "outputs": [
    {
     "name": "stderr",
     "output_type": "stream",
     "text": [
      "E\n",
      "======================================================================\n",
      "ERROR: C:\\Users\\samrit\\AppData\\Roaming\\jupyter\\runtime\\kernel-f9547fef-fbb4-472f-99fe-0f236792add0 (unittest.loader._FailedTest)\n",
      "----------------------------------------------------------------------\n",
      "AttributeError: module '__main__' has no attribute 'C:\\Users\\samrit\\AppData\\Roaming\\jupyter\\runtime\\kernel-f9547fef-fbb4-472f-99fe-0f236792add0'\n",
      "\n",
      "----------------------------------------------------------------------\n",
      "Ran 1 test in 0.001s\n",
      "\n",
      "FAILED (errors=1)\n"
     ]
    },
    {
     "ename": "SystemExit",
     "evalue": "True",
     "output_type": "error",
     "traceback": [
      "An exception has occurred, use %tb to see the full traceback.\n",
      "\u001b[1;31mSystemExit\u001b[0m\u001b[1;31m:\u001b[0m True\n"
     ]
    },
    {
     "name": "stderr",
     "output_type": "stream",
     "text": [
      "C:\\Users\\samrit\\Anaconda3\\lib\\site-packages\\IPython\\core\\interactiveshell.py:3334: UserWarning: To exit: use 'exit', 'quit', or Ctrl-D.\n",
      "  warn(\"To exit: use 'exit', 'quit', or Ctrl-D.\", stacklevel=1)\n"
     ]
    }
   ],
   "source": [
    "\n",
    "import unittest\n",
    "import pandas as pd\n",
    "import sys, os\n",
    "sys.path.append(os.path.abspath(os.path.join('../')))\n",
    "\n",
    "from extract_dataframe import read_json\n",
    "from extract_dataframe import TweetDfExtractor\n",
    "\n",
    "_, tweet_list = read_json(\"C:/Users/samrit/Desktop/10 accadamay/week0/Twitter-Data-Analysis/data/Economic_Twitter_Data.json\")\n",
    "\n",
    "\n",
    "columns = ['created_at', 'source', 'original_text', 'clean_text', 'sentiment', 'polarity', 'subjectivity', 'lang', 'favorite_count', 'retweet_count',\n",
    "           'original_author', 'screen_count', 'followers_count', 'friends_count', 'possibly_sensitive', 'hashtags', 'user_mentions', 'place', 'place_coord_boundaries']\n",
    "\n",
    "\n",
    "class TestTweetDfExtractor(unittest.TestCase):\n",
    "    \"\"\"\n",
    "                A class for unit-testing function in the fix_clean_tweets_dataframe.py file\n",
    "\n",
    "                Args:\n",
    "        -----\n",
    "                        unittest.TestCase this allows the new class to inherit\n",
    "                        from the unittest module\n",
    "        \"\"\"\n",
    "\n",
    "    def setUp(self) -> pd.DataFrame:\n",
    "        self.df = TweetDfExtractor(tweet_list[:5])\n",
    "\n",
    "    def test_find_statuses_count(self):\n",
    "        self.assertEqual(self.df.find_statuses_count(), [\n",
    "                         204051, 3462, 6727, 45477, 277957])\n",
    "\n",
    "    def test_find_full_text(self):\n",
    "        text = ['🚨Africa is \"in the midst of a full-blown third wave\" of coronavirus, the head of @WHOAFRO has warned\\n\\nCases have risen across the continent by more than 20% and deaths have also risen by 15% in the last week\\n\\n@jriggers reports ~ 🧵\\nhttps://t.co/CRDhqPHFWM', 'Dr Moeti is head of WHO in Africa, and one of the best public health experts and leaders I know. Hers is a desperate request for vaccines to Africa. We plead with Germany and the UK to lift patent restrictions and urgently transfer technology to enable production in Africa. https://t.co/sOgIroihOc',\n",
    "                \"Thank you @research2note for creating this amazing campaign &amp; turning social media #red4research today. @NHSRDFORUM is all about sharing the talent, passion  &amp; commitment of individuals coming together as a community for the benefit of all. You've done this. Well done 👋\", 'Former Pfizer VP and Virologist, Dr. Michael Yeadon, is one of the most credentialed medical professionals speaking out about the dangers of the #Covid19 vaccines, breaks down his “list of lies” that keeps him up at night. https://t.co/LSE8CrKdqn', 'I think it’s important that we don’t sell COVAX short. It still has a lot going for it and is innovative in its design. But it needs more vaccines to share.  We’re hoping our low cost @TexasChildrens recombinant protein COVID19 vaccine with @biological_e will help fill some gaps']\n",
    "\n",
    "        self.assertEqual(self.df.find_full_text(), text)\n",
    "\n",
    "    def test_find_sentiments(self):\n",
    "        self.assertEqual(self.df.find_sentiments(self.df.find_full_text()), ([0.16666666666666666, 0.13333333333333333, 0.3166666666666667, 0.08611111111111111, 0.27999999999999997], [\n",
    "                         0.18888888888888888, 0.45555555555555555, 0.48333333333333334, 0.19722222222222224, 0.6199999999999999]))\n",
    "\n",
    "    def test_find_created_time(self):\n",
    "        created_at = ['Fri Jun 18 17:55:49 +0000 2021', 'Fri Jun 18 17:55:59 +0000 2021', 'Fri Jun 18 17:56:07 +0000 2021',\n",
    "                      'Fri Jun 18 17:56:10 +0000 2021', 'Fri Jun 18 17:56:20 +0000 2021']\n",
    "\n",
    "        self.assertEqual(self.df.find_created_time(), created_at)\n",
    "\n",
    "    def test_find_source(self):\n",
    "        source = ['<a href=\"http://twitter.com/download/iphone\" rel=\"nofollow\">Twitter for iPhone</a>', '<a href=\"https://mobile.twitter.com\" rel=\"nofollow\">Twitter Web App</a>',\n",
    "                  '<a href=\"http://twitter.com/download/iphone\" rel=\"nofollow\">Twitter for iPhone</a>', '<a href=\"https://mobile.twitter.com\" rel=\"nofollow\">Twitter Web App</a>',\n",
    "                  '<a href=\"http://twitter.com/download/android\" rel=\"nofollow\">Twitter for Android</a>']\n",
    "\n",
    "        self.assertEqual(self.df.find_source(), source)\n",
    "\n",
    "    def test_find_screen_name(self):\n",
    "        name = ['ketuesriche', 'Grid1949',\n",
    "                'LeeTomlinson8', 'RIPNY08', 'pash22']\n",
    "        self.assertEqual(self.df.find_screen_name(), name)\n",
    "\n",
    "    def test_find_followers_count(self):\n",
    "        f_count = [551, 66, 1195, 2666, 28250]\n",
    "        self.assertEqual(self.df.find_followers_count(), f_count)\n",
    "\n",
    "    def test_find_friends_count(self):\n",
    "        friends_count = [351, 92, 1176, 2704, 30819]\n",
    "        self.assertEqual(self.df.find_friends_count(), friends_count)\n",
    "\n",
    "    def test_find_is_sensitive(self):\n",
    "        self.assertEqual(self.df.is_sensitive(), [\n",
    "                         None, None, None, None, None])\n",
    "\n",
    "    def test_find_favourite_count(self):\n",
    "        self.assertEqual(self.df.find_favourite_count(),\n",
    "                         [548, 195, 2, 1580, 72])\n",
    "\n",
    "    def test_find_retweet_count(self):\n",
    "        self.assertEqual(self.df.find_retweet_count(), [612, 92, 1, 899, 20])\n",
    "\n",
    "    def test_find_hashtags(self):\n",
    "        self.assertEqual(self.df.find_hashtags(), [\n",
    "                         [], [], [{'text': 'red4research', 'indices': [103, 116]}], [], []])\n",
    "\n",
    "    def test_find_mentions(self):\n",
    "        self.assertEqual(self.df.find_mentions(), [[{'screen_name': 'TelGlobalHealth', 'name': 'Telegraph Global Health Security', 'id': 1149218984346230784, 'id_str': '1149218984346230784', 'indices': [3, 19]}, {'screen_name': 'WHOAFRO', 'name': 'WHO African Region', 'id': 544389588, 'id_str': '544389588', 'indices': [102, 110]}], [{'screen_name': 'globalhlthtwit', 'name': 'Anthony Costello', 'id': 83440337, 'id_str': '83440337', 'indices': [3, 18]}], [{'screen_name': 'NHSRDForum', 'name': 'NHS R&D Forum', 'id': 1381499726, 'id_str': '1381499726', 'indices': [\n",
    "                         3, 14]}, {'screen_name': 'Research2note', 'name': 'Research2note', 'id': 734054113940508672, 'id_str': '734054113940508672', 'indices': [26, 40]}, {'screen_name': 'NHSRDForum', 'name': 'NHS R&D Forum', 'id': 1381499726, 'id_str': '1381499726', 'indices': [124, 135]}], [{'screen_name': 'HighWireTalk', 'name': 'The HighWire', 'id': 851985789072408576, 'id_str': '851985789072408576', 'indices': [3, 16]}], [{'screen_name': 'PeterHotez', 'name': 'Prof Peter Hotez MD PhD', 'id': 593289567, 'id_str': '593289567', 'indices': [3, 14]}]])\n",
    "\n",
    "    def test_find_location(self):\n",
    "        self.assertEqual(self.df.find_location(), [\n",
    "                         'Mass', 'Edinburgh, Scotland', None, None, 'United Kingdom'])\n",
    "\n",
    "\n",
    "if __name__ == '__main__':\n",
    "    unittest.main()"
   ]
  },
  {
   "cell_type": "code",
   "execution_count": null,
   "metadata": {},
   "outputs": [],
   "source": []
  },
  {
   "cell_type": "code",
   "execution_count": null,
   "metadata": {},
   "outputs": [],
   "source": []
  }
 ],
 "metadata": {
  "kernelspec": {
   "display_name": "Python 3",
   "language": "python",
   "name": "python3"
  },
  "language_info": {
   "codemirror_mode": {
    "name": "ipython",
    "version": 3
   },
   "file_extension": ".py",
   "mimetype": "text/x-python",
   "name": "python",
   "nbconvert_exporter": "python",
   "pygments_lexer": "ipython3",
   "version": "3.7.4"
  }
 },
 "nbformat": 4,
 "nbformat_minor": 2
}
